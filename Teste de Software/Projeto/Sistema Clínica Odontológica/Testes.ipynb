{
 "cells": [
  {
   "cell_type": "markdown",
   "id": "660691a3",
   "metadata": {},
   "source": [
    "Teste do Sistema odontológico"
   ]
  },
  {
   "cell_type": "code",
   "execution_count": 3,
   "metadata": {},
   "outputs": [
    {
     "data": {
      "text/plain": [
       "True"
      ]
     },
     "execution_count": 3,
     "metadata": {},
     "output_type": "execute_result"
    }
   ],
   "source": [
    "# Resetar Banco de Dados para os testes\n",
    "import requests\n",
    "r = requests.delete(\"https://projetotestes-459ea-default-rtdb.firebaseio.com/.json\")\n",
    "r.ok"
   ]
  },
  {
   "cell_type": "code",
   "execution_count": 4,
   "metadata": {},
   "outputs": [
    {
     "name": "stdout",
     "output_type": "stream",
     "text": [
      "\u001b[1m============================= test session starts ==============================\u001b[0m\n",
      "platform linux -- Python 3.9.2, pytest-7.4.2, pluggy-1.3.0\n",
      "rootdir: /home/VeronicaLopes/Documentos/ProjetoTestes\n",
      "plugins: ordering-0.6, anyio-3.6.2\n",
      "collected 10 items                                                             \u001b[0m\n",
      "\n",
      "test_sistema_unidades.py "
     ]
    }
   ],
   "source": [
    "# Executando testes das Unidades Admin, Dentista e Paciente\n",
    "!pytest -k TestUnidadeSistema test_sistema_unidades.py"
   ]
  },
  {
   "cell_type": "code",
   "execution_count": 1,
   "metadata": {},
   "outputs": [
    {
     "data": {
      "text/plain": [
       "True"
      ]
     },
     "execution_count": 1,
     "metadata": {},
     "output_type": "execute_result"
    }
   ],
   "source": [
    "# Resetar Banco de Dados para os testes\n",
    "import requests\n",
    "r = requests.delete(\"https://projetotestes-459ea-default-rtdb.firebaseio.com/.json\")\n",
    "r.ok"
   ]
  },
  {
   "cell_type": "code",
   "execution_count": 2,
   "metadata": {},
   "outputs": [
    {
     "name": "stdout",
     "output_type": "stream",
     "text": [
      "\u001b[1m============================= test session starts ==============================\u001b[0m\n",
      "platform linux -- Python 3.9.2, pytest-7.4.2, pluggy-1.3.0\n",
      "rootdir: /home/VeronicaLopes/Documentos/ProjetoTestes\n",
      "plugins: ordering-0.6, anyio-3.6.2\n",
      "collected 12 items                                                             \u001b[0m\n",
      "\n",
      "test_sistema_integracao.py \u001b[32m.\u001b[0m\u001b[32m.\u001b[0m\u001b[32m.\u001b[0m\u001b[32m.\u001b[0m\u001b[32m.\u001b[0m\u001b[32m.\u001b[0m\u001b[32m.\u001b[0m\u001b[32m.\u001b[0m\u001b[32m.\u001b[0m\u001b[32m.\u001b[0m\u001b[32m.\u001b[0m\u001b[32m.\u001b[0m\u001b[32m                                  [100%]\u001b[0m\n",
      "\n",
      "\u001b[32m======================== \u001b[32m\u001b[1m12 passed\u001b[0m\u001b[32m in 81.36s (0:01:21)\u001b[0m\u001b[32m =========================\u001b[0m\n"
     ]
    }
   ],
   "source": [
    "# Executando testes integrados a classe de Fachada Sistema\n",
    "!pytest -k TestIntegracaoSistema test_sistema_integracao.py"
   ]
  }
 ],
 "metadata": {
  "kernelspec": {
   "display_name": "Python 3 (ipykernel)",
   "language": "python",
   "name": "python3"
  },
  "language_info": {
   "codemirror_mode": {
    "name": "ipython",
    "version": 3
   },
   "file_extension": ".py",
   "mimetype": "text/x-python",
   "name": "python",
   "nbconvert_exporter": "python",
   "pygments_lexer": "ipython3",
   "version": "3.9.2"
  }
 },
 "nbformat": 4,
 "nbformat_minor": 5
}
