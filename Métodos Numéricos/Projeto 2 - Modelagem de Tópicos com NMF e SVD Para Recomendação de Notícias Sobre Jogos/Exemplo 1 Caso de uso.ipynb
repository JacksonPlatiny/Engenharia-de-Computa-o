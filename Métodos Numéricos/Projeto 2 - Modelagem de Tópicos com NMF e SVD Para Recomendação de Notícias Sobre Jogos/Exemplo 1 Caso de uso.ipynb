{
 "cells": [
  {
   "cell_type": "code",
   "execution_count": 36,
   "id": "46b6e213",
   "metadata": {},
   "outputs": [],
   "source": [
    "import pandas as pd\n",
    "from sklearn.feature_extraction.text import TfidfVectorizer\n",
    "from sklearn.decomposition import NMF, TruncatedSVD"
   ]
  },
  {
   "cell_type": "code",
   "execution_count": 38,
   "id": "9d7e8e83",
   "metadata": {},
   "outputs": [],
   "source": [
    "# Carregar o conjunto de dados da BBC News\n",
    "df = pd.read_csv('C:/Users/jacks/OneDrive/Área de Trabalho/metodos/BBC News Test.csv')  # Substitua pelo caminho correto do arquivo CSV"
   ]
  },
  {
   "cell_type": "code",
   "execution_count": 39,
   "id": "7303cc02",
   "metadata": {},
   "outputs": [
    {
     "name": "stdout",
     "output_type": "stream",
     "text": [
      "   ArticleId                                               Text\n",
      "0       1018  qpr keeper day heads for preston queens park r...\n",
      "1       1319  software watching while you work software that...\n",
      "2       1138  d arcy injury adds to ireland woe gordon d arc...\n",
      "3        459  india s reliance family feud heats up the ongo...\n",
      "4       1020  boro suffer morrison injury blow middlesbrough...\n",
      "\n",
      "Index(['ArticleId', 'Text'], dtype='object')\n"
     ]
    }
   ],
   "source": [
    "print(df.head())  # Exibe as primeiras linhas do DataFrame\n",
    "print()\n",
    "print(df.columns)  # Exibe as colunas do DataFrame"
   ]
  },
  {
   "cell_type": "code",
   "execution_count": 47,
   "id": "41e292b5",
   "metadata": {},
   "outputs": [],
   "source": [
    "# Pré-processamento dos dados\n",
    "vectorizer = TfidfVectorizer(max_df=0.8, min_df=2, stop_words='english')\n",
    "X = vectorizer.fit_transform(df['Text'])"
   ]
  },
  {
   "cell_type": "code",
   "execution_count": 41,
   "id": "5cd66a9a",
   "metadata": {},
   "outputs": [],
   "source": [
    "# Aplicar a modelagem de tópicos com NMF\n",
    "nmf_model = NMF(n_components=5, random_state=42)\n",
    "nmf_topic_matrix = nmf_model.fit_transform(X)"
   ]
  },
  {
   "cell_type": "code",
   "execution_count": 42,
   "id": "fe01c33a",
   "metadata": {},
   "outputs": [],
   "source": [
    "# Obter as palavras mais importantes de cada tópico\n",
    "feature_names = vectorizer.get_feature_names_out()\n",
    "topic_words = []\n",
    "for topic in nmf_model.components_:\n",
    "    word_idx = topic.argsort()[:-11:-1]  # Obter os índices das palavras mais importantes\n",
    "    topic_words.append([feature_names[i] for i in word_idx])"
   ]
  },
  {
   "cell_type": "code",
   "execution_count": 43,
   "id": "f916cd51",
   "metadata": {},
   "outputs": [
    {
     "name": "stdout",
     "output_type": "stream",
     "text": [
      "Tópico 1: game, england, rugby, win, play, wales, match, players, cup, team\n",
      "Tópico 2: mr, labour, blair, election, brown, party, howard, chancellor, government, tory\n",
      "Tópico 3: economy, growth, bank, year, prices, sales, economic, oil, 2004, china\n",
      "Tópico 4: people, music, mobile, technology, digital, users, broadband, games, phone, computer\n",
      "Tópico 5: film, best, award, awards, festival, oscar, prize, year, films, actress\n"
     ]
    }
   ],
   "source": [
    "# Imprimir as palavras mais importantes de cada tópico\n",
    "for i, words in enumerate(topic_words):\n",
    "    print(f'Tópico {i+1}: {\", \".join(words)}')"
   ]
  },
  {
   "cell_type": "code",
   "execution_count": 44,
   "id": "a3b7d631",
   "metadata": {},
   "outputs": [],
   "source": [
    "# Aplicar a modelagem de tópicos com SVD\n",
    "svd_model = TruncatedSVD(n_components=5, random_state=42)\n",
    "svd_topic_matrix = svd_model.fit_transform(X)"
   ]
  },
  {
   "cell_type": "code",
   "execution_count": 45,
   "id": "f6964774",
   "metadata": {},
   "outputs": [],
   "source": [
    "# Obter as palavras mais importantes de cada tópico\n",
    "topic_words = []\n",
    "for topic in svd_model.components_:\n",
    "    word_idx = topic.argsort()[:-11:-1]  # Obter os índices das palavras mais importantes\n",
    "    topic_words.append([feature_names[i] for i in word_idx])"
   ]
  },
  {
   "cell_type": "code",
   "execution_count": 46,
   "id": "18477b70",
   "metadata": {},
   "outputs": [
    {
     "name": "stdout",
     "output_type": "stream",
     "text": [
      "Tópico 1: mr, people, year, labour, government, new, election, blair, brown, party\n",
      "Tópico 2: mr, labour, blair, election, brown, party, howard, chancellor, tory, government\n",
      "Tópico 3: economy, growth, sales, bank, prices, market, oil, company, china, economic\n",
      "Tópico 4: music, people, technology, mobile, digital, users, tv, film, phone, apple\n",
      "Tópico 5: film, award, best, awards, festival, oscar, films, prize, actress, aviator\n"
     ]
    }
   ],
   "source": [
    "# Imprimir as palavras mais importantes de cada tópico\n",
    "for i, words in enumerate(topic_words):\n",
    "    print(f'Tópico {i+1}: {\", \".join(words)}')"
   ]
  }
 ],
 "metadata": {
  "kernelspec": {
   "display_name": "Python 3 (ipykernel)",
   "language": "python",
   "name": "python3"
  },
  "language_info": {
   "codemirror_mode": {
    "name": "ipython",
    "version": 3
   },
   "file_extension": ".py",
   "mimetype": "text/x-python",
   "name": "python",
   "nbconvert_exporter": "python",
   "pygments_lexer": "ipython3",
   "version": "3.10.9"
  }
 },
 "nbformat": 4,
 "nbformat_minor": 5
}
