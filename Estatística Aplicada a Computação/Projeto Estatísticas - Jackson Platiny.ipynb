{
 "cells": [
  {
   "cell_type": "code",
   "execution_count": 2,
   "metadata": {},
   "outputs": [],
   "source": [
    "import matplotlib.pyplot as plt\n",
    "import pandas as pd\n",
    "import numpy as np\n",
    "%matplotlib inline"
   ]
  },
  {
   "cell_type": "code",
   "execution_count": 81,
   "metadata": {},
   "outputs": [],
   "source": [
    "dfReceitas16 = pd.DataFrame({'Taxa de prevenção contra incêndio: Execução': [763831.66, 832063.00, 1205626.31, 1619478.8, 1344292.19, 1424534.0, 1463179.8, 1459728.91, 572004.51, 1732883.60, 1149712.08, -3408094.56],\n",
    " 'Taxa de prevenção contra incêndio: Previsão para o ano': 12772485.00}, index=['Janeiro', 'Fevereiro', 'Março', 'Abril', 'Maio', 'Junho', 'Julho', 'Agosto', 'Setembro', 'Outubro', 'Novembro', 'Dezembro'])\n",
    "dfReceitas17 = pd.DataFrame({'Taxa de prevenção contra incêndio: Execução': [956579.62, 1164856.95, 1353094.82, 1105791.81, 1845158.86, 1467844.95, 1574024.22, -1881751.15, 1152109.07, 1580981.81, 955142.69, 844950.71],\n",
    " 'Taxa de prevenção contra incêndio: Previsão para o ano': 12800000.00}, index=['Janeiro', 'Fevereiro', 'Março', 'Abril', 'Maio', 'Junho', 'Julho', 'Agosto', 'Setembro', 'Outubro', 'Novembro', 'Dezembro'])\n",
    "dfReceitas18 = pd.DataFrame({'Taxa de prevenção contra incêndio: Execução': [1286512.28, 1120028.37, 1295988.43, 1710113.68, 1247889.43, 1555547.13, 1635046.41, 1774480.96, 1011116.23, 1761939.33, 961952.30, 930859.17],\n",
    " 'Taxa de prevenção contra incêndio: Previsão para o ano': 8933909.00}, index=['Janeiro', 'Fevereiro', 'Março', 'Abril', 'Maio', 'Junho', 'Julho', 'Agosto', 'Setembro', 'Outubro', 'Novembro', 'Dezembro'])\n",
    "dfReceitas19 = pd.DataFrame({'Taxa de prevenção contra incêndio: Execução': [1515138.59, 1386758.93, 1488994.87, 1672552.19, 1755594.30],\n",
    " 'Taxa de prevenção contra incêndio: Previsão para o ano': 13700000.00}, index=['Janeiro', 'Fevereiro', 'Março', 'Abril', 'Maio'])"
   ]
  },
  {
   "cell_type": "code",
   "execution_count": 75,
   "metadata": {},
   "outputs": [
    {
     "data": {
      "text/html": [
       "<div>\n",
       "<style scoped>\n",
       "    .dataframe tbody tr th:only-of-type {\n",
       "        vertical-align: middle;\n",
       "    }\n",
       "\n",
       "    .dataframe tbody tr th {\n",
       "        vertical-align: top;\n",
       "    }\n",
       "\n",
       "    .dataframe thead th {\n",
       "        text-align: right;\n",
       "    }\n",
       "</style>\n",
       "<table border=\"1\" class=\"dataframe\">\n",
       "  <thead>\n",
       "    <tr style=\"text-align: right;\">\n",
       "      <th></th>\n",
       "      <th>Taxa de prevenção contra incêndio: Execução</th>\n",
       "      <th>Taxa de prevenção contra incêndio: Previsão para o ano</th>\n",
       "    </tr>\n",
       "  </thead>\n",
       "  <tbody>\n",
       "    <tr>\n",
       "      <th>Janeiro</th>\n",
       "      <td>763831.66</td>\n",
       "      <td>12772485.0</td>\n",
       "    </tr>\n",
       "    <tr>\n",
       "      <th>Fevereiro</th>\n",
       "      <td>832063.00</td>\n",
       "      <td>12772485.0</td>\n",
       "    </tr>\n",
       "    <tr>\n",
       "      <th>Março</th>\n",
       "      <td>1205626.31</td>\n",
       "      <td>12772485.0</td>\n",
       "    </tr>\n",
       "    <tr>\n",
       "      <th>Abril</th>\n",
       "      <td>1619478.80</td>\n",
       "      <td>12772485.0</td>\n",
       "    </tr>\n",
       "    <tr>\n",
       "      <th>Maio</th>\n",
       "      <td>1344292.19</td>\n",
       "      <td>12772485.0</td>\n",
       "    </tr>\n",
       "    <tr>\n",
       "      <th>Junho</th>\n",
       "      <td>1424534.00</td>\n",
       "      <td>12772485.0</td>\n",
       "    </tr>\n",
       "    <tr>\n",
       "      <th>Julho</th>\n",
       "      <td>1463179.80</td>\n",
       "      <td>12772485.0</td>\n",
       "    </tr>\n",
       "    <tr>\n",
       "      <th>Agosto</th>\n",
       "      <td>1459728.91</td>\n",
       "      <td>12772485.0</td>\n",
       "    </tr>\n",
       "    <tr>\n",
       "      <th>Setembro</th>\n",
       "      <td>572004.51</td>\n",
       "      <td>12772485.0</td>\n",
       "    </tr>\n",
       "    <tr>\n",
       "      <th>Outubro</th>\n",
       "      <td>1732883.60</td>\n",
       "      <td>12772485.0</td>\n",
       "    </tr>\n",
       "    <tr>\n",
       "      <th>Novembro</th>\n",
       "      <td>1149712.08</td>\n",
       "      <td>12772485.0</td>\n",
       "    </tr>\n",
       "    <tr>\n",
       "      <th>Dezembro</th>\n",
       "      <td>-3408094.56</td>\n",
       "      <td>12772485.0</td>\n",
       "    </tr>\n",
       "  </tbody>\n",
       "</table>\n",
       "</div>"
      ],
      "text/plain": [
       "           Taxa de prevenção contra incêndio: Execução  \\\n",
       "Janeiro                                      763831.66   \n",
       "Fevereiro                                    832063.00   \n",
       "Março                                       1205626.31   \n",
       "Abril                                       1619478.80   \n",
       "Maio                                        1344292.19   \n",
       "Junho                                       1424534.00   \n",
       "Julho                                       1463179.80   \n",
       "Agosto                                      1459728.91   \n",
       "Setembro                                     572004.51   \n",
       "Outubro                                     1732883.60   \n",
       "Novembro                                    1149712.08   \n",
       "Dezembro                                   -3408094.56   \n",
       "\n",
       "           Taxa de prevenção contra incêndio: Previsão para o ano  \n",
       "Janeiro                                           12772485.0       \n",
       "Fevereiro                                         12772485.0       \n",
       "Março                                             12772485.0       \n",
       "Abril                                             12772485.0       \n",
       "Maio                                              12772485.0       \n",
       "Junho                                             12772485.0       \n",
       "Julho                                             12772485.0       \n",
       "Agosto                                            12772485.0       \n",
       "Setembro                                          12772485.0       \n",
       "Outubro                                           12772485.0       \n",
       "Novembro                                          12772485.0       \n",
       "Dezembro                                          12772485.0       "
      ]
     },
     "execution_count": 75,
     "metadata": {},
     "output_type": "execute_result"
    }
   ],
   "source": [
    "dfReceitas16"
   ]
  },
  {
   "cell_type": "code",
   "execution_count": 55,
   "metadata": {},
   "outputs": [
    {
     "data": {
      "text/plain": [
       "Janeiro        763831.66\n",
       "Fevereiro     1595894.66\n",
       "Março         2801520.97\n",
       "Abril         4420999.77\n",
       "Maio          5765291.96\n",
       "Junho         7189825.96\n",
       "Julho         8653005.76\n",
       "Agosto       10112734.67\n",
       "Setembro     10684739.18\n",
       "Outubro      12417622.78\n",
       "Novembro     13567334.86\n",
       "Dezembro     10159240.30\n",
       "Name: Taxa de prevenção contra incêndio: Execução, dtype: float64"
      ]
     },
     "execution_count": 55,
     "metadata": {},
     "output_type": "execute_result"
    }
   ],
   "source": [
    "dfReceitas16['Taxa de prevenção contra incêndio: Execução'].cumsum()"
   ]
  },
  {
   "cell_type": "markdown",
   "metadata": {},
   "source": [
    "Como pode ser observado, o ano de 2016 terminou com um valor menor que o valor anual previsto para a Taxa de prevenção contra incêndios"
   ]
  },
  {
   "cell_type": "code",
   "execution_count": 56,
   "metadata": {},
   "outputs": [
    {
     "data": {
      "text/plain": [
       "array([<matplotlib.axes._subplots.AxesSubplot object at 0x00000251581CE748>],\n",
       "      dtype=object)"
      ]
     },
     "execution_count": 56,
     "metadata": {},
     "output_type": "execute_result"
    },
    {
     "data": {
      "image/png": "[encoded data removed]",
      "text/plain": [
       "<Figure size 432x288 with 1 Axes>"
      ]
     },
     "metadata": {
      "needs_background": "light"
     },
     "output_type": "display_data"
    }
   ],
   "source": [
    "dfReceitas16['Taxa de prevenção contra incêndio: Execução'].plot.bar(subplots= True)"
   ]
  },
  {
   "cell_type": "code",
   "execution_count": 57,
   "metadata": {},
   "outputs": [
    {
     "data": {
      "text/plain": [
       "array([<matplotlib.axes._subplots.AxesSubplot object at 0x0000025158289240>],\n",
       "      dtype=object)"
      ]
     },
     "execution_count": 57,
     "metadata": {},
     "output_type": "execute_result"
    },
    {
     "data": {
      "image/png": "[encoded data removed]",
      "text/plain": [
       "<Figure size 432x288 with 1 Axes>"
      ]
     },
     "metadata": {
      "needs_background": "light"
     },
     "output_type": "display_data"
    }
   ],
   "source": [
    "dfReceitas16['Taxa de prevenção contra incêndio: Execução'].cumsum().plot.bar(subplots= True)"
   ]
  },
  {
   "cell_type": "code",
   "execution_count": 62,
   "metadata": {},
   "outputs": [
    {
     "data": {
      "text/html": [
       "<div>\n",
       "<style scoped>\n",
       "    .dataframe tbody tr th:only-of-type {\n",
       "        vertical-align: middle;\n",
       "    }\n",
       "\n",
       "    .dataframe tbody tr th {\n",
       "        vertical-align: top;\n",
       "    }\n",
       "\n",
       "    .dataframe thead th {\n",
       "        text-align: right;\n",
       "    }\n",
       "</style>\n",
       "<table border=\"1\" class=\"dataframe\">\n",
       "  <thead>\n",
       "    <tr style=\"text-align: right;\">\n",
       "      <th></th>\n",
       "      <th>Taxa de prevenção contra incêndio: Execução</th>\n",
       "      <th>Taxa de prevenção contra incêndio: Previsão para o ano</th>\n",
       "    </tr>\n",
       "  </thead>\n",
       "  <tbody>\n",
       "    <tr>\n",
       "      <th>Janeiro</th>\n",
       "      <td>956579.62</td>\n",
       "      <td>12800000.0</td>\n",
       "    </tr>\n",
       "    <tr>\n",
       "      <th>Fevereiro</th>\n",
       "      <td>1164856.95</td>\n",
       "      <td>12800000.0</td>\n",
       "    </tr>\n",
       "    <tr>\n",
       "      <th>Março</th>\n",
       "      <td>1353094.82</td>\n",
       "      <td>12800000.0</td>\n",
       "    </tr>\n",
       "    <tr>\n",
       "      <th>Abril</th>\n",
       "      <td>1105791.81</td>\n",
       "      <td>12800000.0</td>\n",
       "    </tr>\n",
       "    <tr>\n",
       "      <th>Maio</th>\n",
       "      <td>1845158.86</td>\n",
       "      <td>12800000.0</td>\n",
       "    </tr>\n",
       "    <tr>\n",
       "      <th>Junho</th>\n",
       "      <td>1467844.95</td>\n",
       "      <td>12800000.0</td>\n",
       "    </tr>\n",
       "    <tr>\n",
       "      <th>Julho</th>\n",
       "      <td>1574024.22</td>\n",
       "      <td>12800000.0</td>\n",
       "    </tr>\n",
       "    <tr>\n",
       "      <th>Agosto</th>\n",
       "      <td>-1881751.15</td>\n",
       "      <td>12800000.0</td>\n",
       "    </tr>\n",
       "    <tr>\n",
       "      <th>Setembro</th>\n",
       "      <td>1152109.07</td>\n",
       "      <td>12800000.0</td>\n",
       "    </tr>\n",
       "    <tr>\n",
       "      <th>Outubro</th>\n",
       "      <td>1580981.81</td>\n",
       "      <td>12800000.0</td>\n",
       "    </tr>\n",
       "    <tr>\n",
       "      <th>Novembro</th>\n",
       "      <td>955142.69</td>\n",
       "      <td>12800000.0</td>\n",
       "    </tr>\n",
       "    <tr>\n",
       "      <th>Dezembro</th>\n",
       "      <td>844950.71</td>\n",
       "      <td>12800000.0</td>\n",
       "    </tr>\n",
       "  </tbody>\n",
       "</table>\n",
       "</div>"
      ],
      "text/plain": [
       "           Taxa de prevenção contra incêndio: Execução  \\\n",
       "Janeiro                                      956579.62   \n",
       "Fevereiro                                   1164856.95   \n",
       "Março                                       1353094.82   \n",
       "Abril                                       1105791.81   \n",
       "Maio                                        1845158.86   \n",
       "Junho                                       1467844.95   \n",
       "Julho                                       1574024.22   \n",
       "Agosto                                     -1881751.15   \n",
       "Setembro                                    1152109.07   \n",
       "Outubro                                     1580981.81   \n",
       "Novembro                                     955142.69   \n",
       "Dezembro                                     844950.71   \n",
       "\n",
       "           Taxa de prevenção contra incêndio: Previsão para o ano  \n",
       "Janeiro                                           12800000.0       \n",
       "Fevereiro                                         12800000.0       \n",
       "Março                                             12800000.0       \n",
       "Abril                                             12800000.0       \n",
       "Maio                                              12800000.0       \n",
       "Junho                                             12800000.0       \n",
       "Julho                                             12800000.0       \n",
       "Agosto                                            12800000.0       \n",
       "Setembro                                          12800000.0       \n",
       "Outubro                                           12800000.0       \n",
       "Novembro                                          12800000.0       \n",
       "Dezembro                                          12800000.0       "
      ]
     },
     "execution_count": 62,
     "metadata": {},
     "output_type": "execute_result"
    }
   ],
   "source": [
    "dfReceitas17"
   ]
  },
  {
   "cell_type": "code",
   "execution_count": 65,
   "metadata": {},
   "outputs": [
    {
     "data": {
      "text/plain": [
       "Janeiro        956579.62\n",
       "Fevereiro     2121436.57\n",
       "Março         3474531.39\n",
       "Abril         4580323.20\n",
       "Maio          6425482.06\n",
       "Junho         7893327.01\n",
       "Julho         9467351.23\n",
       "Agosto        7585600.08\n",
       "Setembro      8737709.15\n",
       "Outubro      10318690.96\n",
       "Novembro     11273833.65\n",
       "Dezembro     12118784.36\n",
       "Name: Taxa de prevenção contra incêndio: Execução, dtype: float64"
      ]
     },
     "execution_count": 65,
     "metadata": {},
     "output_type": "execute_result"
    }
   ],
   "source": [
    "dfReceitas17['Taxa de prevenção contra incêndio: Execução'].cumsum()"
   ]
  },
  {
   "cell_type": "markdown",
   "metadata": {},
   "source": [
    "Como pode ser observado, o ano de 2017 terminou com um valor menor que o valor anual previsto para a Taxa de prevenção contra incêndios, embora esteja muito perto do valor previsto."
   ]
  },
  {
   "cell_type": "code",
   "execution_count": 59,
   "metadata": {},
   "outputs": [
    {
     "data": {
      "text/plain": [
       "array([<matplotlib.axes._subplots.AxesSubplot object at 0x00000251583D5A58>],\n",
       "      dtype=object)"
      ]
     },
     "execution_count": 59,
     "metadata": {},
     "output_type": "execute_result"
    },
    {
     "data": {
      "image/png": "[encoded data removed]",
      "text/plain": [
       "<Figure size 432x288 with 1 Axes>"
      ]
     },
     "metadata": {
      "needs_background": "light"
     },
     "output_type": "display_data"
    }
   ],
   "source": [
    "dfReceitas17['Taxa de prevenção contra incêndio: Execução'].plot.bar(subplots= True)"
   ]
  },
  {
   "cell_type": "code",
   "execution_count": 61,
   "metadata": {},
   "outputs": [
    {
     "data": {
      "text/plain": [
       "array([<matplotlib.axes._subplots.AxesSubplot object at 0x0000025158333BA8>],\n",
       "      dtype=object)"
      ]
     },
     "execution_count": 61,
     "metadata": {},
     "output_type": "execute_result"
    },
    {
     "data": {
      "image/png": "[encoded data removed]",
      "text/plain": [
       "<Figure size 432x288 with 1 Axes>"
      ]
     },
     "metadata": {
      "needs_background": "light"
     },
     "output_type": "display_data"
    }
   ],
   "source": [
    "dfReceitas17['Taxa de prevenção contra incêndio: Execução'].cumsum().plot.bar(subplots= True)"
   ]
  },
  {
   "cell_type": "code",
   "execution_count": 66,
   "metadata": {},
   "outputs": [
    {
     "data": {
      "text/html": [
       "<div>\n",
       "<style scoped>\n",
       "    .dataframe tbody tr th:only-of-type {\n",
       "        vertical-align: middle;\n",
       "    }\n",
       "\n",
       "    .dataframe tbody tr th {\n",
       "        vertical-align: top;\n",
       "    }\n",
       "\n",
       "    .dataframe thead th {\n",
       "        text-align: right;\n",
       "    }\n",
       "</style>\n",
       "<table border=\"1\" class=\"dataframe\">\n",
       "  <thead>\n",
       "    <tr style=\"text-align: right;\">\n",
       "      <th></th>\n",
       "      <th>Taxa de prevenção contra incêndio: Execução</th>\n",
       "      <th>Taxa de prevenção contra incêndio: Previsão para o ano</th>\n",
       "    </tr>\n",
       "  </thead>\n",
       "  <tbody>\n",
       "    <tr>\n",
       "      <th>Janeiro</th>\n",
       "      <td>1286512.28</td>\n",
       "      <td>8933909.0</td>\n",
       "    </tr>\n",
       "    <tr>\n",
       "      <th>Fevereiro</th>\n",
       "      <td>1120028.37</td>\n",
       "      <td>8933909.0</td>\n",
       "    </tr>\n",
       "    <tr>\n",
       "      <th>Março</th>\n",
       "      <td>1295988.43</td>\n",
       "      <td>8933909.0</td>\n",
       "    </tr>\n",
       "    <tr>\n",
       "      <th>Abril</th>\n",
       "      <td>1710113.68</td>\n",
       "      <td>8933909.0</td>\n",
       "    </tr>\n",
       "    <tr>\n",
       "      <th>Maio</th>\n",
       "      <td>1247889.43</td>\n",
       "      <td>8933909.0</td>\n",
       "    </tr>\n",
       "    <tr>\n",
       "      <th>Junho</th>\n",
       "      <td>1555547.13</td>\n",
       "      <td>8933909.0</td>\n",
       "    </tr>\n",
       "    <tr>\n",
       "      <th>Julho</th>\n",
       "      <td>1635046.41</td>\n",
       "      <td>8933909.0</td>\n",
       "    </tr>\n",
       "    <tr>\n",
       "      <th>Agosto</th>\n",
       "      <td>1774480.96</td>\n",
       "      <td>8933909.0</td>\n",
       "    </tr>\n",
       "    <tr>\n",
       "      <th>Setembro</th>\n",
       "      <td>1011116.23</td>\n",
       "      <td>8933909.0</td>\n",
       "    </tr>\n",
       "    <tr>\n",
       "      <th>Outubro</th>\n",
       "      <td>1761939.33</td>\n",
       "      <td>8933909.0</td>\n",
       "    </tr>\n",
       "    <tr>\n",
       "      <th>Novembro</th>\n",
       "      <td>961952.30</td>\n",
       "      <td>8933909.0</td>\n",
       "    </tr>\n",
       "    <tr>\n",
       "      <th>Dezembro</th>\n",
       "      <td>930859.17</td>\n",
       "      <td>8933909.0</td>\n",
       "    </tr>\n",
       "  </tbody>\n",
       "</table>\n",
       "</div>"
      ],
      "text/plain": [
       "           Taxa de prevenção contra incêndio: Execução  \\\n",
       "Janeiro                                     1286512.28   \n",
       "Fevereiro                                   1120028.37   \n",
       "Março                                       1295988.43   \n",
       "Abril                                       1710113.68   \n",
       "Maio                                        1247889.43   \n",
       "Junho                                       1555547.13   \n",
       "Julho                                       1635046.41   \n",
       "Agosto                                      1774480.96   \n",
       "Setembro                                    1011116.23   \n",
       "Outubro                                     1761939.33   \n",
       "Novembro                                     961952.30   \n",
       "Dezembro                                     930859.17   \n",
       "\n",
       "           Taxa de prevenção contra incêndio: Previsão para o ano  \n",
       "Janeiro                                            8933909.0       \n",
       "Fevereiro                                          8933909.0       \n",
       "Março                                              8933909.0       \n",
       "Abril                                              8933909.0       \n",
       "Maio                                               8933909.0       \n",
       "Junho                                              8933909.0       \n",
       "Julho                                              8933909.0       \n",
       "Agosto                                             8933909.0       \n",
       "Setembro                                           8933909.0       \n",
       "Outubro                                            8933909.0       \n",
       "Novembro                                           8933909.0       \n",
       "Dezembro                                           8933909.0       "
      ]
     },
     "execution_count": 66,
     "metadata": {},
     "output_type": "execute_result"
    }
   ],
   "source": [
    "dfReceitas18"
   ]
  },
  {
   "cell_type": "code",
   "execution_count": 68,
   "metadata": {},
   "outputs": [
    {
     "data": {
      "text/plain": [
       "Janeiro       1286512.28\n",
       "Fevereiro     2406540.65\n",
       "Março         3702529.08\n",
       "Abril         5412642.76\n",
       "Maio          6660532.19\n",
       "Junho         8216079.32\n",
       "Julho         9851125.73\n",
       "Agosto       11625606.69\n",
       "Setembro     12636722.92\n",
       "Outubro      14398662.25\n",
       "Novembro     15360614.55\n",
       "Dezembro     16291473.72\n",
       "Name: Taxa de prevenção contra incêndio: Execução, dtype: float64"
      ]
     },
     "execution_count": 68,
     "metadata": {},
     "output_type": "execute_result"
    }
   ],
   "source": [
    "dfReceitas18['Taxa de prevenção contra incêndio: Execução'].cumsum()"
   ]
  },
  {
   "cell_type": "markdown",
   "metadata": {},
   "source": [
    "Como pode ser observado, o ano de 2018 terminou com um valor bem acima que o valor anual previsto para a Taxa de prevenção contra incêndios daquele ano."
   ]
  },
  {
   "cell_type": "code",
   "execution_count": 45,
   "metadata": {},
   "outputs": [
    {
     "data": {
      "text/plain": [
       "array([<matplotlib.axes._subplots.AxesSubplot object at 0x0000025156EA8E80>],\n",
       "      dtype=object)"
      ]
     },
     "execution_count": 45,
     "metadata": {},
     "output_type": "execute_result"
    },
    {
     "data": {
      "image/png": "[encoded data removed]",
      "text/plain": [
       "<Figure size 432x288 with 1 Axes>"
      ]
     },
     "metadata": {
      "needs_background": "light"
     },
     "output_type": "display_data"
    }
   ],
   "source": [
    "dfReceitas18['Taxa de prevenção contra incêndio: Execução'].plot.bar(subplots= True)"
   ]
  },
  {
   "cell_type": "code",
   "execution_count": 69,
   "metadata": {},
   "outputs": [
    {
     "data": {
      "text/plain": [
       "array([<matplotlib.axes._subplots.AxesSubplot object at 0x000002515854FAC8>],\n",
       "      dtype=object)"
      ]
     },
     "execution_count": 69,
     "metadata": {},
     "output_type": "execute_result"
    },
    {
     "data": {
      "image/png": "[encoded data removed]",
      "text/plain": [
       "<Figure size 432x288 with 1 Axes>"
      ]
     },
     "metadata": {
      "needs_background": "light"
     },
     "output_type": "display_data"
    }
   ],
   "source": [
    "dfReceitas18['Taxa de prevenção contra incêndio: Execução'].cumsum().plot.bar(subplots= True)"
   ]
  },
  {
   "cell_type": "code",
   "execution_count": 67,
   "metadata": {},
   "outputs": [
    {
     "data": {
      "text/html": [
       "<div>\n",
       "<style scoped>\n",
       "    .dataframe tbody tr th:only-of-type {\n",
       "        vertical-align: middle;\n",
       "    }\n",
       "\n",
       "    .dataframe tbody tr th {\n",
       "        vertical-align: top;\n",
       "    }\n",
       "\n",
       "    .dataframe thead th {\n",
       "        text-align: right;\n",
       "    }\n",
       "</style>\n",
       "<table border=\"1\" class=\"dataframe\">\n",
       "  <thead>\n",
       "    <tr style=\"text-align: right;\">\n",
       "      <th></th>\n",
       "      <th>Taxa de prevenção contra incêndio: Execução</th>\n",
       "      <th>Taxa de prevenção contra incêndio: Previsão para o ano</th>\n",
       "    </tr>\n",
       "  </thead>\n",
       "  <tbody>\n",
       "    <tr>\n",
       "      <th>Janeiro</th>\n",
       "      <td>1515138.59</td>\n",
       "      <td>13700000.0</td>\n",
       "    </tr>\n",
       "    <tr>\n",
       "      <th>Fevereiro</th>\n",
       "      <td>1386758.93</td>\n",
       "      <td>13700000.0</td>\n",
       "    </tr>\n",
       "    <tr>\n",
       "      <th>Março</th>\n",
       "      <td>1488994.87</td>\n",
       "      <td>13700000.0</td>\n",
       "    </tr>\n",
       "    <tr>\n",
       "      <th>Abril</th>\n",
       "      <td>1672552.19</td>\n",
       "      <td>13700000.0</td>\n",
       "    </tr>\n",
       "    <tr>\n",
       "      <th>Maio</th>\n",
       "      <td>1755594.30</td>\n",
       "      <td>13700000.0</td>\n",
       "    </tr>\n",
       "  </tbody>\n",
       "</table>\n",
       "</div>"
      ],
      "text/plain": [
       "           Taxa de prevenção contra incêndio: Execução  \\\n",
       "Janeiro                                     1515138.59   \n",
       "Fevereiro                                   1386758.93   \n",
       "Março                                       1488994.87   \n",
       "Abril                                       1672552.19   \n",
       "Maio                                        1755594.30   \n",
       "\n",
       "           Taxa de prevenção contra incêndio: Previsão para o ano  \n",
       "Janeiro                                           13700000.0       \n",
       "Fevereiro                                         13700000.0       \n",
       "Março                                             13700000.0       \n",
       "Abril                                             13700000.0       \n",
       "Maio                                              13700000.0       "
      ]
     },
     "execution_count": 67,
     "metadata": {},
     "output_type": "execute_result"
    }
   ],
   "source": [
    "dfReceitas19"
   ]
  },
  {
   "cell_type": "code",
   "execution_count": 71,
   "metadata": {},
   "outputs": [
    {
     "data": {
      "text/plain": [
       "Janeiro      1515138.59\n",
       "Fevereiro    2901897.52\n",
       "Março        4390892.39\n",
       "Abril        6063444.58\n",
       "Maio         7819038.88\n",
       "Name: Taxa de prevenção contra incêndio: Execução, dtype: float64"
      ]
     },
     "execution_count": 71,
     "metadata": {},
     "output_type": "execute_result"
    }
   ],
   "source": [
    "dfReceitas19['Taxa de prevenção contra incêndio: Execução'].cumsum()"
   ]
  },
  {
   "cell_type": "markdown",
   "metadata": {},
   "source": [
    "Não se tem muito o que falar sobre 2019, embora seja válido salientar que em 5 meses, já passou de 50% do valor esperado (R$13.700.000,00) para esse ano para a Taxa de prevenção contra incêndios, o que é um bom indicativo."
   ]
  },
  {
   "cell_type": "code",
   "execution_count": 43,
   "metadata": {},
   "outputs": [
    {
     "data": {
      "text/plain": [
       "array([<matplotlib.axes._subplots.AxesSubplot object at 0x0000025156F2F2E8>],\n",
       "      dtype=object)"
      ]
     },
     "execution_count": 43,
     "metadata": {},
     "output_type": "execute_result"
    },
    {
     "data": {
      "image/png": "[encoded data removed]",
      "text/plain": [
       "<Figure size 432x288 with 1 Axes>"
      ]
     },
     "metadata": {
      "needs_background": "light"
     },
     "output_type": "display_data"
    }
   ],
   "source": [
    "dfReceitas19['Taxa de prevenção contra incêndio: Execução'].plot.bar(subplots= True)"
   ]
  },
  {
   "cell_type": "code",
   "execution_count": 72,
   "metadata": {},
   "outputs": [
    {
     "data": {
      "text/plain": [
       "array([<matplotlib.axes._subplots.AxesSubplot object at 0x0000025158561A90>],\n",
       "      dtype=object)"
      ]
     },
     "execution_count": 72,
     "metadata": {},
     "output_type": "execute_result"
    },
    {
     "data": {
      "image/png": "[encoded data removed]",
      "text/plain": [
       "<Figure size 432x288 with 1 Axes>"
      ]
     },
     "metadata": {
      "needs_background": "light"
     },
     "output_type": "display_data"
    }
   ],
   "source": [
    "dfReceitas19['Taxa de prevenção contra incêndio: Execução'].cumsum().plot.bar(subplots= True)"
   ]
  }
 ],
 "metadata": {
  "kernelspec": {
   "display_name": "Python 3",
   "language": "python",
   "name": "python3"
  },
  "language_info": {
   "codemirror_mode": {
    "name": "ipython",
    "version": 3
   },
   "file_extension": ".py",
   "mimetype": "text/x-python",
   "name": "python",
   "nbconvert_exporter": "python",
   "pygments_lexer": "ipython3",
   "version": "3.7.1"
  }
 },
 "nbformat": 4,
 "nbformat_minor": 2
}
