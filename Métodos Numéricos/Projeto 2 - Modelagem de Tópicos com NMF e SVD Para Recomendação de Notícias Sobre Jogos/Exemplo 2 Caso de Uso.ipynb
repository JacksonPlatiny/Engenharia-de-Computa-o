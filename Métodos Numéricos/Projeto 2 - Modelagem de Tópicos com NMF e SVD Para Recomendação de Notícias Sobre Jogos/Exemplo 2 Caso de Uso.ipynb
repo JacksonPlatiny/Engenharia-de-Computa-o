{
 "cells": [
  {
   "cell_type": "code",
   "execution_count": 24,
   "id": "546b1dcd",
   "metadata": {},
   "outputs": [],
   "source": [
    "import pandas as pd\n",
    "from sklearn.feature_extraction.text import TfidfVectorizer\n",
    "from sklearn.decomposition import NMF, TruncatedSVD\n",
    "from sklearn.metrics.pairwise import cosine_similarity"
   ]
  },
  {
   "cell_type": "code",
   "execution_count": 26,
   "id": "f4fe561e",
   "metadata": {},
   "outputs": [],
   "source": [
    "# Carregar o conjunto de dados da BBC News\n",
    "df = pd.read_csv('C:/Users/jacks/OneDrive/Área de Trabalho/metodos/BBC News Test.csv')  # Substitua pelo caminho correto do arquivo CSV"
   ]
  },
  {
   "cell_type": "code",
   "execution_count": 36,
   "id": "e10e72cf",
   "metadata": {},
   "outputs": [
    {
     "name": "stdout",
     "output_type": "stream",
     "text": [
      "   ArticleId                                               Text\n",
      "0       1018  qpr keeper day heads for preston queens park r...\n",
      "1       1319  software watching while you work software that...\n",
      "2       1138  d arcy injury adds to ireland woe gordon d arc...\n",
      "3        459  india s reliance family feud heats up the ongo...\n",
      "4       1020  boro suffer morrison injury blow middlesbrough...\n",
      "\n",
      "Index(['ArticleId', 'Text'], dtype='object')\n"
     ]
    }
   ],
   "source": [
    "print(df.head())  # Exibe as primeiras linhas do DataFrame\n",
    "print()\n",
    "print(df.columns)  # Exibe as colunas do DataFrame"
   ]
  },
  {
   "cell_type": "code",
   "execution_count": 37,
   "id": "053cd3ce",
   "metadata": {},
   "outputs": [],
   "source": [
    "# Pré-processamento dos dados\n",
    "vectorizer = TfidfVectorizer(stop_words='english')\n",
    "X = vectorizer.fit_transform(df['Text'])"
   ]
  },
  {
   "cell_type": "code",
   "execution_count": 38,
   "id": "6bd3c8c0",
   "metadata": {},
   "outputs": [],
   "source": [
    "# Aplicar a modelagem de tópicos com NMF com um número maior de iterações\n",
    "num_topics = 10\n",
    "max_iter = 1000\n",
    "nmf_model = NMF(n_components=num_topics, max_iter=max_iter, random_state=42)\n",
    "nmf_topics = nmf_model.fit_transform(X)"
   ]
  },
  {
   "cell_type": "code",
   "execution_count": 39,
   "id": "058b4137",
   "metadata": {},
   "outputs": [],
   "source": [
    "# Reduzir a dimensionalidade com SVD\n",
    "svd_model = TruncatedSVD(n_components=100, random_state=42)\n",
    "svd_features = svd_model.fit_transform(X)"
   ]
  },
  {
   "cell_type": "code",
   "execution_count": 40,
   "id": "0445badb",
   "metadata": {},
   "outputs": [],
   "source": [
    "# Função para recomendar artigos com base no interesse do usuário\n",
    "def recommend_articles(interest, num_recommendations=5):\n",
    "    # Vetorizar o interesse do usuário\n",
    "    interest_vec = vectorizer.transform([interest])\n",
    "\n",
    "    # Transformar o interesse usando NMF e SVD\n",
    "    interest_nmf = nmf_model.transform(interest_vec)\n",
    "    interest_svd = svd_model.transform(interest_vec)\n",
    "\n",
    "    # Calcular a similaridade de cosseno entre o interesse do usuário e os documentos\n",
    "    nmf_similarities = cosine_similarity(interest_nmf, nmf_topics)\n",
    "    svd_similarities = cosine_similarity(interest_svd, svd_features)\n",
    "\n",
    "    # Obter os índices dos documentos mais similares\n",
    "    nmf_indices = nmf_similarities.argsort()[0][::-1]\n",
    "    svd_indices = svd_similarities.argsort()[0][::-1]\n",
    "\n",
    "    # Recomendar os artigos mais relevantes\n",
    "    nmf_recommendations = df.iloc[nmf_indices[:num_recommendations]]['Text']\n",
    "    svd_recommendations = df.iloc[svd_indices[:num_recommendations]]['Text']\n",
    "\n",
    "    return nmf_recommendations, svd_recommendations"
   ]
  },
  {
   "cell_type": "code",
   "execution_count": 44,
   "id": "a07842eb",
   "metadata": {},
   "outputs": [],
   "source": [
    "# Exemplo de recomendação de artigos\n",
    "interest = \"games\"\n",
    "nmf_recommended_articles, svd_recommended_articles = recommend_articles(interest)"
   ]
  },
  {
   "cell_type": "code",
   "execution_count": 45,
   "id": "956cfa78",
   "metadata": {},
   "outputs": [
    {
     "name": "stdout",
     "output_type": "stream",
     "text": [
      "Recomendações baseadas em NMF:\n",
      "195    nintendo ds makes its euro debut nintendo s ds...\n",
      "689    sony psp console hits us in march us gamers wi...\n",
      "423    games win for blu-ray dvd format the next-gene...\n",
      "392    disney backs sony dvd technology a next genera...\n",
      "93     disney backs sony dvd technology a next genera...\n",
      "Name: Text, dtype: object\n"
     ]
    }
   ],
   "source": [
    "print(\"Recomendações baseadas em NMF:\")\n",
    "print(nmf_recommended_articles)"
   ]
  },
  {
   "cell_type": "code",
   "execution_count": 46,
   "id": "eeded1b9",
   "metadata": {},
   "outputs": [
    {
     "name": "stdout",
     "output_type": "stream",
     "text": [
      "\n",
      "Recomendações baseadas em SVD:\n",
      "558    games  deserve a place in class  computer game...\n",
      "596    parents face video game lessons ways of ensuri...\n",
      "602    games enter the classroom video games could so...\n",
      "525    ea to take on film and tv giants video game gi...\n",
      "70     news corp eyes video games market news corp  t...\n",
      "Name: Text, dtype: object\n"
     ]
    }
   ],
   "source": [
    "print(\"\\nRecomendações baseadas em SVD:\")\n",
    "print(svd_recommended_articles)"
   ]
  }
 ],
 "metadata": {
  "kernelspec": {
   "display_name": "Python 3 (ipykernel)",
   "language": "python",
   "name": "python3"
  },
  "language_info": {
   "codemirror_mode": {
    "name": "ipython",
    "version": 3
   },
   "file_extension": ".py",
   "mimetype": "text/x-python",
   "name": "python",
   "nbconvert_exporter": "python",
   "pygments_lexer": "ipython3",
   "version": "3.10.9"
  }
 },
 "nbformat": 4,
 "nbformat_minor": 5
}
